{
 "cells": [
  {
   "cell_type": "code",
   "execution_count": 1,
   "metadata": {},
   "outputs": [],
   "source": [
    "import numpy as np\n"
   ]
  },
  {
   "cell_type": "code",
   "execution_count": 2,
   "metadata": {},
   "outputs": [
    {
     "name": "stdout",
     "output_type": "stream",
     "text": [
      "a:\n",
      " [0.59856595 0.03876    0.87998479 0.83277354 0.57358427]\n",
      "a.shape: (5,)\n"
     ]
    }
   ],
   "source": [
    "# **** create a numpy array with 5 values ****\n",
    "a = np.random.rand(5)\n",
    "\n",
    "print(\"a:\\n\", str(a))\n",
    "\n",
    "# **** rank one array (not a row or a column vector) ***\n",
    "print(\"a.shape: \" + str(a.shape))"
   ]
  },
  {
   "cell_type": "code",
   "execution_count": 3,
   "metadata": {},
   "outputs": [
    {
     "name": "stdout",
     "output_type": "stream",
     "text": [
      "a.T:\n",
      "[0.59856595 0.03876    0.87998479 0.83277354 0.57358427]\n",
      "at.shape: (5,)\n"
     ]
    }
   ],
   "source": [
    "print(\"a.T:\\n\" + str(a.T))\n",
    "at = a.T;\n",
    "print(\"at.shape: \" + str(at.shape))"
   ]
  },
  {
   "cell_type": "code",
   "execution_count": 4,
   "metadata": {},
   "outputs": [
    {
     "name": "stdout",
     "output_type": "stream",
     "text": [
      "np.dot(a, at): 2.156667451097387\n"
     ]
    }
   ],
   "source": [
    "# **** should be a vector (returns a number)****\n",
    "print(\"np.dot(a, at): \" + str(np.dot(a, a.T)))"
   ]
  },
  {
   "cell_type": "code",
   "execution_count": 5,
   "metadata": {},
   "outputs": [
    {
     "name": "stdout",
     "output_type": "stream",
     "text": [
      "b:\n",
      "[[-0.16082202]\n",
      " [-0.59616096]\n",
      " [-0.14109024]\n",
      " [ 0.12482206]\n",
      " [-0.57974929]]\n",
      "b.shape: (5, 1)\n"
     ]
    }
   ],
   "source": [
    "# **** instead use: ****\n",
    "b = np.random.randn(5, 1)\n",
    "print(\"b:\\n\" + str(b))\n",
    "print(\"b.shape: \" + str(b.shape))\n"
   ]
  },
  {
   "cell_type": "code",
   "execution_count": 6,
   "metadata": {
    "scrolled": true
   },
   "outputs": [
    {
     "name": "stdout",
     "output_type": "stream",
     "text": [
      "bt:  [[-0.16082202 -0.59616096 -0.14109024  0.12482206 -0.57974929]]\n",
      "(bt).shape: (1, 5)\n"
     ]
    }
   ],
   "source": [
    "# **** ****\n",
    "bt = b.T\n",
    "print(\"bt: \", bt)\n",
    "print(\"(bt).shape: \" + str(bt.shape))"
   ]
  },
  {
   "cell_type": "code",
   "execution_count": 7,
   "metadata": {},
   "outputs": [
    {
     "name": "stdout",
     "output_type": "stream",
     "text": [
      "np.dot(b, bt):\n",
      "[[ 0.02586372  0.09587581  0.02269042 -0.02007414  0.09323645]\n",
      " [ 0.09587581  0.3554079   0.08411249 -0.07441404  0.3456239 ]\n",
      " [ 0.02269042  0.08411249  0.01990646 -0.01761117  0.08179697]\n",
      " [-0.02007414 -0.07441404 -0.01761117  0.01558055 -0.0723655 ]\n",
      " [ 0.09323645  0.3456239   0.08179697 -0.0723655   0.33610924]]\n"
     ]
    }
   ],
   "source": [
    "# **** ****\n",
    "print(\"np.dot(b, bt):\\n\" + str(np.dot(b, bt)))"
   ]
  },
  {
   "cell_type": "code",
   "execution_count": 8,
   "metadata": {},
   "outputs": [
    {
     "name": "stdout",
     "output_type": "stream",
     "text": [
      "c:\n",
      "[[ 0.78972441]\n",
      " [ 1.22054239]\n",
      " [-0.33353284]\n",
      " [ 1.14566886]\n",
      " [-0.86414905]]\n",
      "c.shape: (5, 1)\n"
     ]
    }
   ],
   "source": [
    "# **** column vector ****\n",
    "c = np.random.randn(5,1)\n",
    "print(\"c:\\n\" + str(c))\n",
    "print(\"c.shape: \" + str(c.shape))\n",
    "assert(c.shape == (5,1))"
   ]
  },
  {
   "cell_type": "code",
   "execution_count": 9,
   "metadata": {},
   "outputs": [
    {
     "name": "stdout",
     "output_type": "stream",
     "text": [
      "c:\n",
      "[[-1.46988785 -0.36645894 -0.03568687 -0.36432731 -0.02556531]]\n",
      "c.shape: (1, 5)\n"
     ]
    }
   ],
   "source": [
    "# **** row vector ****\n",
    "c = np.random.randn(1, 5)\n",
    "print(\"c:\\n\" + str(c))\n",
    "print(\"c.shape: \" + str(c.shape))\n",
    "assert(c.shape == (1,5))"
   ]
  },
  {
   "cell_type": "code",
   "execution_count": 10,
   "metadata": {},
   "outputs": [
    {
     "name": "stdout",
     "output_type": "stream",
     "text": [
      "c:\n",
      "[0.49527347 0.81801972 0.50069938 0.95502156 0.35153775]\n",
      "c.shape: (5,)\n"
     ]
    }
   ],
   "source": [
    "# **** do NOT use ****\n",
    "c = np.random.rand(5)\n",
    "print(\"c:\\n\" + str(c))\n",
    "print(\"c.shape: \" + str(c.shape))\n"
   ]
  },
  {
   "cell_type": "code",
   "execution_count": 11,
   "metadata": {
    "scrolled": true
   },
   "outputs": [
    {
     "ename": "AssertionError",
     "evalue": "",
     "output_type": "error",
     "traceback": [
      "\u001b[1;31m---------------------------------------------------------------------------\u001b[0m",
      "\u001b[1;31mAssertionError\u001b[0m                            Traceback (most recent call last)",
      "\u001b[1;32m<ipython-input-11-f2f6d9a88cea>\u001b[0m in \u001b[0;36m<module>\u001b[1;34m\u001b[0m\n\u001b[0;32m      1\u001b[0m \u001b[1;31m# **** to make sure c has the expected shape *****\u001b[0m\u001b[1;33m\u001b[0m\u001b[1;33m\u001b[0m\u001b[1;33m\u001b[0m\u001b[0m\n\u001b[1;32m----> 2\u001b[1;33m \u001b[1;32massert\u001b[0m\u001b[1;33m(\u001b[0m\u001b[0mc\u001b[0m\u001b[1;33m.\u001b[0m\u001b[0mshape\u001b[0m \u001b[1;33m==\u001b[0m \u001b[1;33m(\u001b[0m\u001b[1;36m5\u001b[0m\u001b[1;33m,\u001b[0m\u001b[1;36m1\u001b[0m\u001b[1;33m)\u001b[0m\u001b[1;33m)\u001b[0m\u001b[1;33m\u001b[0m\u001b[1;33m\u001b[0m\u001b[0m\n\u001b[0m",
      "\u001b[1;31mAssertionError\u001b[0m: "
     ]
    }
   ],
   "source": [
    "# **** to make sure c has the expected shape *****\n",
    "assert(c.shape == (5,1))"
   ]
  },
  {
   "cell_type": "code",
   "execution_count": 12,
   "metadata": {},
   "outputs": [
    {
     "name": "stdout",
     "output_type": "stream",
     "text": [
      "c.shape: (6,)\n",
      "c: [0.0122801  0.8858489  0.13227552 0.65613547 0.94701376 0.99253127]\n",
      "\n",
      "c.shape: (1, 6)\n",
      "c: [[0.0122801  0.8858489  0.13227552 0.65613547 0.94701376 0.99253127]]\n",
      "\n",
      "c.shape: (6, 1)\n",
      "c:\n",
      "[[0.0122801 ]\n",
      " [0.8858489 ]\n",
      " [0.13227552]\n",
      " [0.65613547]\n",
      " [0.94701376]\n",
      " [0.99253127]]\n"
     ]
    }
   ],
   "source": [
    "# **** you can also reshape an array ****\n",
    "c = np.random.rand(6)\n",
    "print(\"c.shape: \" + str(c.shape))\n",
    "print(\"c: \" + str(c))\n",
    "print()\n",
    "\n",
    "c = c.reshape(1, 6)\n",
    "print(\"c.shape: \" + str(c.shape))\n",
    "print(\"c: \" + str(c))\n",
    "print()\n",
    "\n",
    "c = c.reshape(6, 1)\n",
    "print(\"c.shape: \" + str(c.shape))\n",
    "print(\"c:\\n\" + str(c))"
   ]
  },
  {
   "cell_type": "code",
   "execution_count": null,
   "metadata": {},
   "outputs": [],
   "source": []
  }
 ],
 "metadata": {
  "kernelspec": {
   "display_name": "Python 3",
   "language": "python",
   "name": "python3"
  },
  "language_info": {
   "codemirror_mode": {
    "name": "ipython",
    "version": 3
   },
   "file_extension": ".py",
   "mimetype": "text/x-python",
   "name": "python",
   "nbconvert_exporter": "python",
   "pygments_lexer": "ipython3",
   "version": "3.7.1"
  }
 },
 "nbformat": 4,
 "nbformat_minor": 2
}
